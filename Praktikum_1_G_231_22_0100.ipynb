{
  "nbformat": 4,
  "nbformat_minor": 0,
  "metadata": {
    "colab": {
      "provenance": [],
      "authorship_tag": "ABX9TyOJpwp1HxRTA9q4/n/IcETg",
      "include_colab_link": true
    },
    "kernelspec": {
      "name": "python3",
      "display_name": "Python 3"
    },
    "language_info": {
      "name": "python"
    }
  },
  "cells": [
    {
      "cell_type": "markdown",
      "metadata": {
        "id": "view-in-github",
        "colab_type": "text"
      },
      "source": [
        "<a href=\"https://colab.research.google.com/github/SAPUTRA987/Miniprojek_G.231.22.0100/blob/main/Praktikum_1_G_231_22_0100.ipynb\" target=\"_parent\"><img src=\"https://colab.research.google.com/assets/colab-badge.svg\" alt=\"Open In Colab\"/></a>"
      ]
    },
    {
      "cell_type": "code",
      "execution_count": 9,
      "metadata": {
        "id": "v8YmhHOgt8D0"
      },
      "outputs": [],
      "source": [
        "kenalan = []\n"
      ]
    },
    {
      "cell_type": "code",
      "source": [
        "kenalan = [\"afan1\",\"satya2\",\"alfa3\",\"rasyif4\",\"diki5\"]"
      ],
      "metadata": {
        "id": "_CnnLCCx--JT"
      },
      "execution_count": 3,
      "outputs": []
    },
    {
      "cell_type": "code",
      "source": [
        "print(kenalan[2]) # Output: kenalan 3"
      ],
      "metadata": {
        "colab": {
          "base_uri": "https://localhost:8080/"
        },
        "id": "lnIFfd3F_ZBC",
        "outputId": "300e60da-b721-4d85-a319-fdcdfb4541de"
      },
      "execution_count": 4,
      "outputs": [
        {
          "output_type": "stream",
          "name": "stdout",
          "text": [
            "alfa3\n"
          ]
        }
      ]
    },
    {
      "cell_type": "code",
      "source": [
        "for teman in kenalan:\n",
        "  print(teman)"
      ],
      "metadata": {
        "colab": {
          "base_uri": "https://localhost:8080/"
        },
        "id": "af_blejw_mbJ",
        "outputId": "115cc9d3-af08-4a6e-b45b-95b53103116c"
      },
      "execution_count": 6,
      "outputs": [
        {
          "output_type": "stream",
          "name": "stdout",
          "text": [
            "afan1\n",
            "satya2\n",
            "alfa3\n",
            "rasyif4\n",
            "diki5\n"
          ]
        }
      ]
    },
    {
      "cell_type": "code",
      "source": [
        "panjang_list = len(kenalan)\n",
        "print(\"Panjang list kenalan adalah:\",panjang_list)"
      ],
      "metadata": {
        "colab": {
          "base_uri": "https://localhost:8080/"
        },
        "id": "UMftCUKA_31E",
        "outputId": "d01df922-5d60-4c50-d63c-8882b8de9637"
      },
      "execution_count": 7,
      "outputs": [
        {
          "output_type": "stream",
          "name": "stdout",
          "text": [
            "Panjang list kenalan adalah: 5\n"
          ]
        }
      ]
    }
  ]
}