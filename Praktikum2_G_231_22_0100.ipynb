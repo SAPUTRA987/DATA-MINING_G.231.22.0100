{
  "nbformat": 4,
  "nbformat_minor": 0,
  "metadata": {
    "colab": {
      "provenance": [],
      "authorship_tag": "ABX9TyMZrLZFZQkvWf5/UqTAtdCo",
      "include_colab_link": true
    },
    "kernelspec": {
      "name": "python3",
      "display_name": "Python 3"
    },
    "language_info": {
      "name": "python"
    }
  },
  "cells": [
    {
      "cell_type": "markdown",
      "metadata": {
        "id": "view-in-github",
        "colab_type": "text"
      },
      "source": [
        "<a href=\"https://colab.research.google.com/github/SAPUTRA987/Miniprojek_G.231.22.0100/blob/main/Praktikum2_G_231_22_0100.ipynb\" target=\"_parent\"><img src=\"https://colab.research.google.com/assets/colab-badge.svg\" alt=\"Open In Colab\"/></a>"
      ]
    },
    {
      "cell_type": "code",
      "execution_count": null,
      "metadata": {
        "id": "Sc6ZY3RMKOOK"
      },
      "outputs": [],
      "source": [
        "def selectionSort(alist):\n",
        " for slot in range(0,len(alist)-1):\n",
        "  position=slot\n",
        "  for location in range(slot+1,len(alist)):\n",
        "    if alist[location]<alist[position]:\n",
        "      position=location\n",
        "\n",
        "  temp=alist[slot]\n",
        "  alist[slot]=[position]\n",
        "  alist[position]=temp\n",
        "  print(alist)\n",
        "angka=[5,1,4,2,8,10,3]\n",
        "selectionSort(angka)\n",
        "print(angka)"
      ]
    },
    {
      "cell_type": "code",
      "source": [
        "# Tuple\n",
        "my_tuple = (1,2,3,4,5,6,'a','b','c')\n",
        "print(\"Isi dari tuple adalah:\", my_tuple)\n",
        "print(\"Elemen pertama dari tuple adalah:\", my_tuple[0])\n",
        "print(\"Jumlah elemen dalam tuple adalah:\", len(my_tuple))\n"
      ],
      "metadata": {
        "id": "hC8wDpxEPtwY"
      },
      "execution_count": null,
      "outputs": []
    },
    {
      "cell_type": "code",
      "source": [
        "# Dictionary\n",
        "my_dict = {'nama': 'John', 'umur': 30, 'pekerjaan': 'Engineer'}\n",
        "print(\"Isi dari dictionary adalah:\", my_dict)\n",
        "print(\"Nilai umur dalam dictionary adalah:\", my_dict['umur'])\n",
        "my_dict['pekerjaan'] = 'Data Scientist'  # Mengubah nilai kunci 'pekerjaan'\n",
        "print(\"Setelah diubah, isi dictionary menjadi:\", my_dict)"
      ],
      "metadata": {
        "id": "4hsTjIa_Ger7"
      },
      "execution_count": null,
      "outputs": []
    }
  ]
}