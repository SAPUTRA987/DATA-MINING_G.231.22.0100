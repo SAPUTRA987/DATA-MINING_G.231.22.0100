{
  "nbformat": 4,
  "nbformat_minor": 0,
  "metadata": {
    "colab": {
      "provenance": [],
      "authorship_tag": "ABX9TyPx3AgVYQDK4ZheED/9QZSB",
      "include_colab_link": true
    },
    "kernelspec": {
      "name": "python3",
      "display_name": "Python 3"
    },
    "language_info": {
      "name": "python"
    }
  },
  "cells": [
    {
      "cell_type": "markdown",
      "metadata": {
        "id": "view-in-github",
        "colab_type": "text"
      },
      "source": [
        "<a href=\"https://colab.research.google.com/github/SAPUTRA987/Miniprojek_G.231.22.0100/blob/main/SearchEngine_G_231_22_0100.ipynb\" target=\"_parent\"><img src=\"https://colab.research.google.com/assets/colab-badge.svg\" alt=\"Open In Colab\"/></a>"
      ]
    },
    {
      "cell_type": "code",
      "execution_count": 4,
      "metadata": {
        "colab": {
          "base_uri": "https://localhost:8080/"
        },
        "id": "mVc34DNVleRe",
        "outputId": "9e51bc13-12e0-4d69-f5d6-7f443aec1ee4"
      },
      "outputs": [
        {
          "name": "stdout",
          "output_type": "stream",
          "text": [
            "Search Website (Play Store/youtube): youtube\n",
            "Search: https://www.youtube.com/results\n"
          ]
        }
      ],
      "source": [
        "import webbrowser\n",
        "\n",
        "website = input(\"Search Website (Play Store/youtube): \")\n",
        "\n",
        "if website.lower() == \"Play Store\":\n",
        "    query = input(\"Search: \")\n",
        "    search_url = f\"https://www.Play Store.com/search?q={query}\"\n",
        "    webbrowser.open(search_url)\n",
        "\n",
        "elif website.lower() == \"youtube\":\n",
        "    query = input(\"Search: \")\n",
        "    search_url = f\"https://www.youtube.com/results?search_query={query}\"\n",
        "    webbrowser.open(search_url)\n",
        "\n",
        "else:\n",
        "    print(\"Ketikkan Play Store/youtube aja\")\n"
      ]
    }
  ]
}