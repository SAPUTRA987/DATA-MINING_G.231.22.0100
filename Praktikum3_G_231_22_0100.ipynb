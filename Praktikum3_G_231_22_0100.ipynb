{
  "nbformat": 4,
  "nbformat_minor": 0,
  "metadata": {
    "colab": {
      "provenance": [],
      "authorship_tag": "ABX9TyMe762vjVsEoPkeoq7QoCIz",
      "include_colab_link": true
    },
    "kernelspec": {
      "name": "python3",
      "display_name": "Python 3"
    },
    "language_info": {
      "name": "python"
    }
  },
  "cells": [
    {
      "cell_type": "markdown",
      "metadata": {
        "id": "view-in-github",
        "colab_type": "text"
      },
      "source": [
        "<a href=\"https://colab.research.google.com/github/SAPUTRA987/Miniprojek_G.231.22.0100/blob/main/Praktikum3_G_231_22_0100.ipynb\" target=\"_parent\"><img src=\"https://colab.research.google.com/assets/colab-badge.svg\" alt=\"Open In Colab\"/></a>"
      ]
    },
    {
      "cell_type": "code",
      "source": [
        "\n",
        " def convert (s):\n",
        "\n",
        "  new = \"\"\n",
        "  for x in s:\n",
        "    new += x\n",
        "\n",
        "    return new\n",
        "\n",
        "  #drive code\n",
        "  s = ['g','e','e','k','s','f','o','r','g','e','e','k','s']\n",
        "  print(convert (s))"
      ],
      "metadata": {
        "id": "wlvK9EZCQmFh"
      },
      "execution_count": null,
      "outputs": []
    },
    {
      "cell_type": "code",
      "execution_count": null,
      "metadata": {
        "colab": {
          "base_uri": "https://localhost:8080/"
        },
        "id": "YdUNK0UVMsXk",
        "outputId": "9325d6cb-0b4a-49ff-a35b-001993c15441"
      },
      "outputs": [
        {
          "output_type": "stream",
          "name": "stdout",
          "text": [
            "programming\n"
          ]
        }
      ],
      "source": [
        "  def convert (s) :\n",
        "    huruf = \"\"\n",
        "    for x in s :\n",
        "      huruf += x\n",
        "\n",
        "    return huruf\n",
        "\n",
        "  # drive code\n",
        "  s = ['p','r','o','g','r','a','m','m','i','n','g']\n",
        "  print(convert (s))"
      ]
    }
  ]
}